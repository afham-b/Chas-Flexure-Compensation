{
 "cells": [
  {
   "cell_type": "code",
   "execution_count": 2,
   "id": "3cd2edbf",
   "metadata": {},
   "outputs": [
    {
     "name": "stdout",
     "output_type": "stream",
     "text": [
      "Collecting pythonnet\n",
      "  Obtaining dependency information for pythonnet from https://files.pythonhosted.org/packages/12/28/2ecca48b313c436eb0b194b74b5a70dd88f2700d79bce5424799ffc82ede/pythonnet-3.0.3-py3-none-any.whl.metadata\n",
      "  Downloading pythonnet-3.0.3-py3-none-any.whl.metadata (6.6 kB)\n",
      "Collecting clr-loader<0.3.0,>=0.2.6 (from pythonnet)\n",
      "  Obtaining dependency information for clr-loader<0.3.0,>=0.2.6 from https://files.pythonhosted.org/packages/b3/1a/2801c4e3888aac8fcd4d88d32a1155a778d1c01ca040ae8137d433a39cc6/clr_loader-0.2.6-py3-none-any.whl.metadata\n",
      "  Downloading clr_loader-0.2.6-py3-none-any.whl.metadata (1.4 kB)\n",
      "Requirement already satisfied: cffi>=1.13 in c:\\users\\afham\\anaconda3\\lib\\site-packages (from clr-loader<0.3.0,>=0.2.6->pythonnet) (1.15.1)\n",
      "Requirement already satisfied: pycparser in c:\\users\\afham\\anaconda3\\lib\\site-packages (from cffi>=1.13->clr-loader<0.3.0,>=0.2.6->pythonnet) (2.21)\n",
      "Using cached pythonnet-3.0.3-py3-none-any.whl (290 kB)\n",
      "Using cached clr_loader-0.2.6-py3-none-any.whl (51 kB)\n",
      "Installing collected packages: clr-loader, pythonnet\n",
      "Successfully installed clr-loader-0.2.6 pythonnet-3.0.3\n",
      "Note: you may need to restart the kernel to use updated packages.\n"
     ]
    }
   ],
   "source": [
    "pip install pythonnet "
   ]
  },
  {
   "cell_type": "code",
   "execution_count": 4,
   "id": "d4aa760f",
   "metadata": {},
   "outputs": [],
   "source": [
    "import sys\n",
    "import os\n",
    "import inspect\n",
    "# Import the .NET Common Language Runtime (CLR) to allow interaction with .NET\n",
    "import clr\n",
    "import numpy as np"
   ]
  },
  {
   "cell_type": "code",
   "execution_count": 6,
   "id": "3af57957",
   "metadata": {},
   "outputs": [
    {
     "name": "stdout",
     "output_type": "stream",
     "text": [
      "Python 3.11.4 | packaged by Anaconda, Inc. | (main, Jul  5 2023, 13:38:37) [MSC v.1916 64 bit (AMD64)]\n",
      "\n",
      "\n",
      "Executing File = C:\\Users\\afham\\Desktop\\Custom\\Samples\\OpenMultipleDevices_8742.py\n",
      "\n",
      "Executing Dir  = C:\\Users\\afham\\Desktop\\Custom\\Samples\n",
      "\n"
     ]
    },
    {
     "data": {
      "text/plain": [
       "<System.Reflection.RuntimeAssembly object at 0x0000013CE6F38100>"
      ]
     },
     "execution_count": 6,
     "metadata": {},
     "output_type": "execute_result"
    }
   ],
   "source": [
    "print (\"Python %s\\n\\n\" % (sys.version,))\n",
    "\n",
    "strCurrFile = \"C:\\\\Users\\\\afham\\\\Desktop\\\\Custom\\\\Samples\\OpenMultipleDevices_8742.py\"\n",
    "print (\"Executing File = %s\\n\" % strCurrFile)\n",
    "\n",
    "# Initialize the DLL folder path to where the DLLs are located\n",
    "strPathDllFolder = \"C:\\\\Users\\\\afham\\\\Desktop\\\\Custom\\\\Samples\"\n",
    "print (\"Executing Dir  = %s\\n\" % strPathDllFolder)\n",
    "\n",
    "# Add the DLL folder path to the system search path (before adding references)\n",
    "sys.path.append (strPathDllFolder)\n",
    "\n",
    "# Add a reference to each .NET assembly required\n",
    "clr.AddReference (\"DeviceIOLib\")\n",
    "clr.AddReference (\"CmdLib8742\")\n",
    "\n",
    "clr.AddReference(os.path.join(strPathDllFolder, \"DeviceIOLib\"))\n",
    "clr.AddReference(os.path.join(strPathDllFolder, \"CmdLib8742\"))\n"
   ]
  },
  {
   "cell_type": "code",
   "execution_count": 7,
   "id": "0a9aa909",
   "metadata": {},
   "outputs": [],
   "source": [
    "# Import a class from a namespace\n",
    "from Newport.DeviceIOLib import DeviceIOLib\n",
    "from NewFocus.PicomotorApp import CmdLib8742\n",
    "from System.Text import StringBuilder"
   ]
  },
  {
   "cell_type": "code",
   "execution_count": null,
   "id": "e12ecaa8",
   "metadata": {},
   "outputs": [],
   "source": []
  }
 ],
 "metadata": {
  "kernelspec": {
   "display_name": "Python 3 (ipykernel)",
   "language": "python",
   "name": "python3"
  },
  "language_info": {
   "codemirror_mode": {
    "name": "ipython",
    "version": 3
   },
   "file_extension": ".py",
   "mimetype": "text/x-python",
   "name": "python",
   "nbconvert_exporter": "python",
   "pygments_lexer": "ipython3",
   "version": "3.11.4"
  }
 },
 "nbformat": 4,
 "nbformat_minor": 5
}
