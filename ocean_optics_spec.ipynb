{
 "cells": [
  {
   "cell_type": "code",
   "execution_count": 1,
   "metadata": {},
   "outputs": [],
   "source": [
    "import numpy as np\n",
    "import matplotlib as mpl\n",
    "import matplotlib.pyplot as plt\n",
    "import astropy\n",
    "from astropy import units as u\n",
    "from astropy.table import Table\n",
    "%matplotlib inline\n",
    "\n",
    "from ipywidgets import interactive\n",
    "from matplotlib.widgets import Slider, Button, RadioButtons"
   ]
  },
  {
   "cell_type": "code",
   "execution_count": 2,
   "metadata": {},
   "outputs": [],
   "source": [
    "from seabreeze.spectrometers import Spectrometer\n",
    "spec=Spectrometer.from_first_available()"
   ]
  },
  {
   "cell_type": "code",
   "execution_count": 3,
   "metadata": {},
   "outputs": [],
   "source": [
    "def specplot(wavemin=0,wavemax=1000,exptime=1):\n",
    "    plt.figure(figsize=(10,10))\n",
    "    spec.integration_time_micros(1e6*exptime)\n",
    "    spint=spec.intensities()\n",
    "    spwave=spec.wavelengths()\n",
    "    p=np.where((spwave>wavemin) & (spwave<wavemax))\n",
    "    plt.plot(spwave[p[0]],spint[p[0]])\n",
    "    plt.show()"
   ]
  },
  {
   "cell_type": "code",
   "execution_count": 4,
   "metadata": {},
   "outputs": [
    {
     "data": {
      "application/vnd.jupyter.widget-view+json": {
       "model_id": "b696d144aada4f9f8d8c03e69d1e2156",
       "version_major": 2,
       "version_minor": 0
      },
      "text/plain": [
       "interactive(children=(IntSlider(value=0, description='wavemin', max=1000), IntSlider(value=1000, description='…"
      ]
     },
     "metadata": {},
     "output_type": "display_data"
    }
   ],
   "source": [
    "interactive_plot = interactive(specplot, wavemin=(0, 1000, 1),wavemax=(0,1000,1),exptime=(0,1,.01))\n",
    "interactive_plot"
   ]
  },
  {
   "cell_type": "code",
   "execution_count": null,
   "metadata": {},
   "outputs": [],
   "source": []
  }
 ],
 "metadata": {
  "kernelspec": {
   "display_name": "Python 3",
   "language": "python",
   "name": "python3"
  },
  "language_info": {
   "codemirror_mode": {
    "name": "ipython",
    "version": 3
   },
   "file_extension": ".py",
   "mimetype": "text/x-python",
   "name": "python",
   "nbconvert_exporter": "python",
   "pygments_lexer": "ipython3",
   "version": "3.8.1"
  }
 },
 "nbformat": 4,
 "nbformat_minor": 2
}
